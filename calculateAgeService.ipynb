{
    "cells": [
     {
      "cell_type": "code",
      "execution_count": 17,
      "id": "81e34b89-0f52-4bec-8419-f19462b49efb",
      "metadata": {
       "id": "81e34b89-0f52-4bec-8419-f19462b49efb",
       "tags": []
      },
      "outputs": [],
      "source": [
       "import json\n",
       "import datetime"
      ]
     },
     {
      "cell_type": "code",
      "execution_count": 18,
      "id": "730e91fc-199e-47c3-9537-42099cff8dce",
      "metadata": {
       "id": "730e91fc-199e-47c3-9537-42099cff8dce",
       "tags": [
        "parameters"
       ]
      },
      "outputs": [],
      "source": [
       "# Notebook Details\n",
       "\n",
       "# Description of Notebooks purpose\n",
       "description=\"Calcuate the age of a person in years based on their date of birth and the current date\"\n",
       "\n",
       "# Filename where results will be written \n",
       "output=\"output.json\"\n",
       "\n",
       "# Input JSON structure\n",
       "input={\n",
       "    \"firstName\": \"Fred\",\n",
       "    \"surname\": \"Tester\",\n",
       "    \"DOB\": \"12/03/1978\"\n",
       "}\n",
       "\n",
       "# Results JSON structure - new comment - new name output\n",
       "results={\n",
       "    \"age\": 44,\n",
       "    \"name\": \"Good Morning Fred Tester\"\n",
       "}"
      ]
     },
     {
      "cell_type": "code",
      "execution_count": 19,
      "id": "7798f689-cdf9-4b0d-9b29-2356f253443b",
      "metadata": {
       "id": "7798f689-cdf9-4b0d-9b29-2356f253443b",
       "tags": []
      },
      "outputs": [],
      "source": [
       "datetime_object = datetime.datetime.strptime(input['DOB'], '%d/%m/%Y')"
      ]
     },
     {
      "cell_type": "code",
      "execution_count": 20,
      "id": "32bc9cf5-ceea-405d-a9d8-f09986428930",
      "metadata": {
       "id": "32bc9cf5-ceea-405d-a9d8-f09986428930",
       "tags": []
      },
      "outputs": [],
      "source": [
       "birthdate = datetime_object.date()"
      ]
     },
     {
      "cell_type": "code",
      "execution_count": 21,
      "id": "a20a9071-ca85-47f5-afbb-b09f2e2e8152",
      "metadata": {
       "id": "a20a9071-ca85-47f5-afbb-b09f2e2e8152",
       "tags": []
      },
      "outputs": [],
      "source": [
       "\n",
       "# Python3 code to  calculate age in years\n",
       " \n",
       "from datetime import date\n",
       " \n",
       "def calculateAge(birthDate):\n",
       "    today = date.today()\n",
       "    age = today.year - birthDate.year - ((today.month, today.day) < (birthDate.month, birthDate.day))\n",
       " \n",
       "    return age\n",
       "     \n",
       "# Driver code\n",
       "\n",
       "age = calculateAge(birthdate)"
      ]
     },
     {
      "cell_type": "code",
      "execution_count": 22,
      "id": "670fc875-7f17-4257-9d96-089bf3d0fe02",
      "metadata": {
       "id": "670fc875-7f17-4257-9d96-089bf3d0fe02",
       "tags": []
      },
      "outputs": [],
      "source": [
       "name = \"Good Morning  \" + input['firstName'] + \" \" + input['surname']"
      ]
     },
     {
      "cell_type": "code",
      "execution_count": 23,
      "id": "01ed0c7a-0612-471d-9051-d1fba9e9f83b",
      "metadata": {
       "id": "01ed0c7a-0612-471d-9051-d1fba9e9f83b",
       "tags": []
      },
      "outputs": [
       {
        "name": "stdout",
        "output_type": "stream",
        "text": [
         "{\n",
         "    \"age\": 45,\n",
         "    \"name\": \"Good Morning  Fred Tester\"\n",
         "}\n"
        ]
       }
      ],
      "source": [
       "dictionary = {'age': age, 'name': name}\n",
       "jsonString = json.dumps(dictionary, indent=4)\n",
       "print(jsonString)\n",
       "\n",
       "# Serializing json\n",
       "json_object = json.dumps(dictionary, indent=4)\n",
       " \n",
       "# Writing to sample.json\n",
       "with open(output, \"w\") as outfile:\n",
       "    outfile.write(json_object)"
      ]
     },
     {
      "cell_type": "code",
      "execution_count": null,
      "id": "a429ce01",
      "metadata": {
       "id": "a429ce01"
      },
      "outputs": [],
      "source": []
     }
    ],
    "metadata": {
     "kernelspec": {
      "display_name": "Python 3.10",
      "language": "python",
      "name": "python3"
     },
     "language_info": {
      "codemirror_mode": {
       "name": "ipython",
       "version": 3
      },
      "file_extension": ".py",
      "mimetype": "text/x-python",
      "name": "python",
      "nbconvert_exporter": "python",
      "pygments_lexer": "ipython3",
      "version": "3.10.10"
     },
     "vscode": {
      "interpreter": {
       "hash": "b0fa6594d8f4cbf19f97940f81e996739fb7646882a419484c72d19e05852a7e"
      }
     }
    },
    "nbformat": 4,
    "nbformat_minor": 5
   }
   